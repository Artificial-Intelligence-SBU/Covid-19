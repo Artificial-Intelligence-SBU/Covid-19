{
  "nbformat": 4,
  "nbformat_minor": 0,
  "metadata": {
    "colab": {
      "name": "Report.ipynb",
      "provenance": [],
      "authorship_tag": "ABX9TyNWEaK7+WomN0GfZzPFlvy4",
      "include_colab_link": true
    },
    "kernelspec": {
      "name": "python3",
      "display_name": "Python 3"
    }
  },
  "cells": [
    {
      "cell_type": "markdown",
      "metadata": {
        "id": "view-in-github",
        "colab_type": "text"
      },
      "source": [
        "<a href=\"https://colab.research.google.com/github/mohammad2682/Covid-19/blob/master/Report.ipynb\" target=\"_parent\"><img src=\"https://colab.research.google.com/assets/colab-badge.svg\" alt=\"Open In Colab\"/></a>"
      ]
    },
    {
      "cell_type": "markdown",
      "metadata": {
        "id": "jfEfVzLRDKA1",
        "colab_type": "text"
      },
      "source": [
        "# How Can Deep Learning Help Patients Infected By COVID-19?"
      ]
    },
    {
      "cell_type": "markdown",
      "metadata": {
        "id": "2z8vswEgEpq6",
        "colab_type": "text"
      },
      "source": [
        "## Description"
      ]
    },
    {
      "cell_type": "markdown",
      "metadata": {
        "id": "2WEi_1QiFC4a",
        "colab_type": "text"
      },
      "source": [
        "In this research we are studying on COVID-19 infection, using Deep Learning algorithmes on CT-scan images to diagnose the infected patients and classify them than others.\n",
        "By now, RT-PCR kits are used as main criteria to detect patients infected by coronavirus. Also, so many AI developers are working to implement AI algorithm to detect different disorders and diseases; such as cancer detetction, abnormalities prediction or classification and tumour segmentation. "
      ]
    },
    {
      "cell_type": "markdown",
      "metadata": {
        "id": "7iMUZXGtFilm",
        "colab_type": "text"
      },
      "source": [
        "Also, Some researches has been studied on COVID-19 to offer an optimized model to predict probablity of infection caused by coronavirus for new subjects. In addition, number of delivered algirithmes increasing gradually."
      ]
    },
    {
      "cell_type": "markdown",
      "metadata": {
        "id": "oezxBuF_GXaA",
        "colab_type": "text"
      },
      "source": [
        "So, our main question is that \"Can we create a model using convelutional neural network to predict and classify subjects infected by coronavirus than nonCOVID subjects?\"\n"
      ]
    },
    {
      "cell_type": "markdown",
      "metadata": {
        "id": "yPP7be0_JZUJ",
        "colab_type": "text"
      },
      "source": [
        "Therefore, our goal is to develope a Deep-Learning based automated CT-images analysis to demonstrate and classify subjects infected by COVID and nonCOVID subjects.\n",
        "As material, we have used a realiable dataset with more than 2000 CT-scan images. 1252 images labeled COVID and 1230 labeled nonCOVID."
      ]
    }
  ]
}