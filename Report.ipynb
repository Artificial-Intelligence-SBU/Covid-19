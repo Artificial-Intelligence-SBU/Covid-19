{
  "nbformat": 4,
  "nbformat_minor": 0,
  "metadata": {
    "colab": {
      "name": "Report.ipynb",
      "provenance": [],
      "include_colab_link": true
    },
    "kernelspec": {
      "name": "python3",
      "display_name": "Python 3"
    }
  },
  "cells": [
    {
      "cell_type": "markdown",
      "metadata": {
        "id": "view-in-github",
        "colab_type": "text"
      },
      "source": [
        "<a href=\"https://colab.research.google.com/github/mohammad2682/Covid-19/blob/master/Report.ipynb\" target=\"_parent\"><img src=\"https://colab.research.google.com/assets/colab-badge.svg\" alt=\"Open In Colab\"/></a>"
      ]
    },
    {
      "cell_type": "markdown",
      "metadata": {
        "id": "jfEfVzLRDKA1",
        "colab_type": "text"
      },
      "source": [
        "# How Can Deep Learning Help Patients Infected By COVID-19?"
      ]
    },
    {
      "cell_type": "markdown",
      "metadata": {
        "id": "cAf5zgY-NWnO",
        "colab_type": "text"
      },
      "source": [
        "## Introduction"
      ]
    },
    {
      "cell_type": "markdown",
      "metadata": {
        "id": "ccZSofrkzv7C",
        "colab_type": "text"
      },
      "source": [
        "On March 11, the World Health Organization (W.H.O.) declared Coronavirus disease 2019 (COVID-19) a pandemic characterized by the rapid and global spread of the novel coronavirus around the world. As governments scramble to close borders, implement contact tracing, and increase awareness of personal hygiene in an effort to contain the spread of the virus, the spread of the virus is still unfortunately expected to increase until a vaccine can be developed and deployed owing to different standards of implementing these policies for each country.</br>The outbreak of coronavirus started since December 2019 in Wuhan and surprised everyone with its rapid spread. This virus widespread human-to-human transmission has resulted in 9,079,748 cases in the world with 471,289 deaths up to January 21, 2020.\n"
      ]
    },
    {
      "cell_type": "markdown",
      "metadata": {
        "id": "jqBAxvfcNhoz",
        "colab_type": "text"
      },
      "source": [
        "COVID-19 is a typical Coronavirus of Coronavirus family. Among viruses from this family, NL63, OC43 and HKU1 infections are frequently mild, mostly caused common cold symptoms like fever, dry cough and tiredness. SARS-COV-2 is the seventh member of the Coronavirus family."
      ]
    },
    {
      "cell_type": "markdown",
      "metadata": {
        "id": "2z8vswEgEpq6",
        "colab_type": "text"
      },
      "source": [
        "## Description"
      ]
    },
    {
      "cell_type": "markdown",
      "metadata": {
        "id": "2WEi_1QiFC4a",
        "colab_type": "text"
      },
      "source": [
        "In this research we are studying on COVID-19 infection, using Deep Learning algorithms on CT-scan images to diagnose the infected patients and classify them than others. By now, RT-PCR kits are used as the main criteria to detect patients infected by corona-virus. Also, so many AI developers are working to implement an AI algorithm to detect different disorders and diseases; such as cancer detection, abnormalities prediction or classification and tumour segmentation.</br>\n",
        "Also, Some researches have been studied on COVID-19 to offer an optimized model to predict the probability of infection caused by coronavirus for new subjects. Besides, the number of delivered algorithms increasing gradually."
      ]
    },
    {
      "cell_type": "markdown",
      "metadata": {
        "id": "oezxBuF_GXaA",
        "colab_type": "text"
      },
      "source": [
        "So, our main question is that \"Can we create a model using a convolutional neural network to predict and classify subjects infected by coronavirus than nonCOVID subjects?\"</br>\n",
        "Therefore, our goal is to develop a Deep-Learning based automated CT-images analysis to demonstrate and classify subjects infected by COVID and non-COVID subjects. We have used a reliable dataset with more than 2000 CT-scan images. 1252 images labelled COVID and 1230 labelled non-COVID.\n"
      ]
    }
  ]
}