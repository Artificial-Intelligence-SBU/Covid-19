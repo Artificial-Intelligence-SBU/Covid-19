{
  "nbformat": 4,
  "nbformat_minor": 0,
  "metadata": {
    "colab": {
      "name": "Report.ipynb",
      "provenance": [],
      "authorship_tag": "ABX9TyOYNSOEe+X096+hIf/l740f",
      "include_colab_link": true
    },
    "kernelspec": {
      "name": "python3",
      "display_name": "Python 3"
    }
  },
  "cells": [
    {
      "cell_type": "markdown",
      "metadata": {
        "id": "view-in-github",
        "colab_type": "text"
      },
      "source": [
        "<a href=\"https://colab.research.google.com/github/mohammad2682/Covid-19/blob/master/Report.ipynb\" target=\"_parent\"><img src=\"https://colab.research.google.com/assets/colab-badge.svg\" alt=\"Open In Colab\"/></a>"
      ]
    },
    {
      "cell_type": "markdown",
      "metadata": {
        "id": "jfEfVzLRDKA1",
        "colab_type": "text"
      },
      "source": [
        "# How Can Deep Learning Help Patients Infected By COVID-19?"
      ]
    },
    {
      "cell_type": "markdown",
      "metadata": {
        "id": "2z8vswEgEpq6",
        "colab_type": "text"
      },
      "source": [
        "## Description"
      ]
    },
    {
      "cell_type": "markdown",
      "metadata": {
        "id": "2WEi_1QiFC4a",
        "colab_type": "text"
      },
      "source": [
        "In this research we are studying on COVID-19 infection, using Deep Learning algorithms on CT-scan images to diagnose the infected patients and classify them than others. By now, RT-PCR kits are used as the main criteria to detect patients infected by corona-virus. Also, so many AI developers are working to implement an AI algorithm to detect different disorders and diseases; such as cancer detection, abnormalities prediction or classification and tumour segmentation."
      ]
    },
    {
      "cell_type": "markdown",
      "metadata": {
        "id": "7iMUZXGtFilm",
        "colab_type": "text"
      },
      "source": [
        "Also, Some researches have been studied on COVID-19 to offer an optimized model to predict the probability of infection caused by coronavirus for new subjects. Besides, the number of delivered algorithms increasing gradually."
      ]
    },
    {
      "cell_type": "markdown",
      "metadata": {
        "id": "oezxBuF_GXaA",
        "colab_type": "text"
      },
      "source": [
        "So, our main question is that \"Can we create a model using a convolutional neural network to predict and classify subjects infected by coronavirus than nonCOVID subjects?\"\n"
      ]
    },
    {
      "cell_type": "markdown",
      "metadata": {
        "id": "yPP7be0_JZUJ",
        "colab_type": "text"
      },
      "source": [
        "Therefore, our goal is to develop a Deep-Learning based automated CT-images analysis to demonstrate and classify subjects infected by COVID and non-COVID subjects. We have used a reliable dataset with more than 2000 CT-scan images. 1252 images labelled COVID and 1230 labelled non-COVID."
      ]
    }
  ]
}