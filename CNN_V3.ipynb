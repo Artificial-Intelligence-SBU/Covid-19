{
  "nbformat": 4,
  "nbformat_minor": 0,
  "metadata": {
    "colab": {
      "name": "CNN-V3.ipynb",
      "provenance": [],
      "authorship_tag": "ABX9TyPpoXZFMNBK/8wWLS7uyHy2",
      "include_colab_link": true
    },
    "kernelspec": {
      "name": "python3",
      "display_name": "Python 3"
    }
  },
  "cells": [
    {
      "cell_type": "markdown",
      "metadata": {
        "id": "view-in-github",
        "colab_type": "text"
      },
      "source": [
        "<a href=\"https://colab.research.google.com/github/mohammad2682/Covid-19/blob/master/CNN_V3.ipynb\" target=\"_parent\"><img src=\"https://colab.research.google.com/assets/colab-badge.svg\" alt=\"Open In Colab\"/></a>"
      ]
    },
    {
      "cell_type": "code",
      "metadata": {
        "id": "lDUrP5TV51Q1",
        "colab_type": "code",
        "colab": {}
      },
      "source": [
        "import numpy as np \n",
        "import pandas as pd\n",
        "import cv2\n",
        "import os\n",
        "from matplotlib import pyplot as plt"
      ],
      "execution_count": 0,
      "outputs": []
    },
    {
      "cell_type": "code",
      "metadata": {
        "id": "mF_OT_1m7NQr",
        "colab_type": "code",
        "colab": {
          "base_uri": "https://localhost:8080/",
          "height": 34
        },
        "outputId": "c011233f-1ea4-45d2-eadd-2ebec97d09ca"
      },
      "source": [
        "!git clone https://github.com/mohammad2682/Covid19-Dataset"
      ],
      "execution_count": 2,
      "outputs": [
        {
          "output_type": "stream",
          "text": [
            "fatal: destination path 'Covid19-Dataset' already exists and is not an empty directory.\n"
          ],
          "name": "stdout"
        }
      ]
    },
    {
      "cell_type": "code",
      "metadata": {
        "id": "W5IZGaOc7QBo",
        "colab_type": "code",
        "colab": {}
      },
      "source": [
        "#importing train data from repo\n",
        "import glob as glob\n",
        "import skimage.transform as st\n",
        "dl=['COVID','non-COVID']\n",
        "dl=os.listdir('Covid19-Dataset/Covid-19-Dataset/train/')\n",
        "xtrain=[]\n",
        "p=0\n",
        "for i in range(2):\n",
        "  for fn in sorted(glob.glob('Covid19-Dataset/Covid-19-Dataset/train/'+dl[i]+'/*.png')):\n",
        "    img = cv2.imread(fn)\n",
        "    img=st.resize(img,(128,128))\n",
        "    xtrain.append(img)"
      ],
      "execution_count": 0,
      "outputs": []
    },
    {
      "cell_type": "code",
      "metadata": {
        "id": "pG2FJmpe7Tjd",
        "colab_type": "code",
        "colab": {}
      },
      "source": [
        "#importing test data from repo\n",
        "dl=['COVID','non-COVID']\n",
        "dl=os.listdir('Covid19-Dataset/Covid-19-Dataset/test/')\n",
        "xtest=[]\n",
        "p=0\n",
        "for i in range(2):\n",
        "  for fn in sorted(glob.glob('Covid19-Dataset/Covid-19-Dataset/test/'+dl[i]+'/*.png')):\n",
        "    img = cv2.imread(fn)\n",
        "    img=st.resize(img,(128,128))\n",
        "    xtest.append(img)"
      ],
      "execution_count": 0,
      "outputs": []
    },
    {
      "cell_type": "code",
      "metadata": {
        "id": "YDafMWof7e-9",
        "colab_type": "code",
        "colab": {}
      },
      "source": [
        "#creating labels for train data\n",
        "ytrain=[]\n",
        "for i in range(2):\n",
        "  for j in range(1000):\n",
        "    ytrain.append(i)\n",
        "#creating labels for test data    \n",
        "ytest=[]\n",
        "for j in range(252):\n",
        "  ytest.append(0)\n",
        "for j in range(230):\n",
        "  ytest.append(1)"
      ],
      "execution_count": 0,
      "outputs": []
    },
    {
      "cell_type": "code",
      "metadata": {
        "id": "2MLFohGc7n8F",
        "colab_type": "code",
        "colab": {
          "base_uri": "https://localhost:8080/",
          "height": 34
        },
        "outputId": "369560d0-1f3f-4fb8-a73a-96ca437e72f0"
      },
      "source": [
        "import keras\n",
        "from keras.models import Sequential\n",
        "from keras.layers import Conv2D\n",
        "from keras.layers import MaxPooling2D\n",
        "from keras.layers import Flatten\n",
        "from keras.layers import Dense\n",
        "from keras.layers import BatchNormalization, Dropout"
      ],
      "execution_count": 6,
      "outputs": [
        {
          "output_type": "stream",
          "text": [
            "Using TensorFlow backend.\n"
          ],
          "name": "stderr"
        }
      ]
    },
    {
      "cell_type": "code",
      "metadata": {
        "id": "khKdch3U7tXT",
        "colab_type": "code",
        "colab": {
          "base_uri": "https://localhost:8080/",
          "height": 487
        },
        "outputId": "9be50624-fbcb-4780-ffaa-dd659d4b0ee5"
      },
      "source": [
        "# Initialising the CNN\n",
        "classifier = Sequential()\n",
        "# Step 1 - Convolution\n",
        "classifier.add(Conv2D(32, (7, 7), input_shape = (128, 128, 3), activation = 'relu'))\n",
        "classifier.add(Dropout(0.3))\n",
        "# Step 2 - Pooling\n",
        "classifier.add(MaxPooling2D(pool_size = (2, 2)))\n",
        "# Adding a second convolutional layer\n",
        "classifier.add(Conv2D(64, (7, 7), activation = 'relu'))\n",
        "classifier.add(Dropout(0.3))\n",
        "classifier.add(MaxPooling2D(pool_size = (2, 2)))\n",
        "# Step 3 - Flattening\n",
        "classifier.add(Flatten())\n",
        "# Step 4 - Full connection\n",
        "classifier.add(Dense(units = 128, activation = 'relu'))\n",
        "classifier.add(Dropout(0.3))\n",
        "classifier.add(Dense(units = 1, activation = 'sigmoid'))\n",
        "# Compiling the CNN\n",
        "classifier.compile(optimizer = 'adam', loss = 'binary_crossentropy', metrics = ['accuracy'])\n",
        "classifier.summary()"
      ],
      "execution_count": 7,
      "outputs": [
        {
          "output_type": "stream",
          "text": [
            "Model: \"sequential_1\"\n",
            "_________________________________________________________________\n",
            "Layer (type)                 Output Shape              Param #   \n",
            "=================================================================\n",
            "conv2d_1 (Conv2D)            (None, 122, 122, 32)      4736      \n",
            "_________________________________________________________________\n",
            "dropout_1 (Dropout)          (None, 122, 122, 32)      0         \n",
            "_________________________________________________________________\n",
            "max_pooling2d_1 (MaxPooling2 (None, 61, 61, 32)        0         \n",
            "_________________________________________________________________\n",
            "conv2d_2 (Conv2D)            (None, 55, 55, 64)        100416    \n",
            "_________________________________________________________________\n",
            "dropout_2 (Dropout)          (None, 55, 55, 64)        0         \n",
            "_________________________________________________________________\n",
            "max_pooling2d_2 (MaxPooling2 (None, 27, 27, 64)        0         \n",
            "_________________________________________________________________\n",
            "flatten_1 (Flatten)          (None, 46656)             0         \n",
            "_________________________________________________________________\n",
            "dense_1 (Dense)              (None, 128)               5972096   \n",
            "_________________________________________________________________\n",
            "dropout_3 (Dropout)          (None, 128)               0         \n",
            "_________________________________________________________________\n",
            "dense_2 (Dense)              (None, 1)                 129       \n",
            "=================================================================\n",
            "Total params: 6,077,377\n",
            "Trainable params: 6,077,377\n",
            "Non-trainable params: 0\n",
            "_________________________________________________________________\n"
          ],
          "name": "stdout"
        }
      ]
    },
    {
      "cell_type": "markdown",
      "metadata": {
        "id": "umoLMZKD-_W_",
        "colab_type": "text"
      },
      "source": [
        "# **Data Agumentation**"
      ]
    },
    {
      "cell_type": "code",
      "metadata": {
        "id": "uxi-uVsY7vd9",
        "colab_type": "code",
        "colab": {}
      },
      "source": [
        "from keras.preprocessing.image import ImageDataGenerator"
      ],
      "execution_count": 0,
      "outputs": []
    },
    {
      "cell_type": "code",
      "metadata": {
        "id": "kGX87WVv70xJ",
        "colab_type": "code",
        "colab": {}
      },
      "source": [
        "datagen = ImageDataGenerator(\n",
        "    rescale=1./255,\n",
        "    featurewise_center=False, \n",
        "    samplewise_center=False, \n",
        "    featurewise_std_normalization=False, \n",
        "    samplewise_std_normalization=False, \n",
        "    zca_whitening=False, \n",
        "    rotation_range=0, \n",
        "    width_shift_range=0.1, \n",
        "    height_shift_range=0.1, \n",
        "    horizontal_flip=True, \n",
        "    vertical_flip=False)\n",
        "\n",
        "datagen.fit(xtrain)\n",
        "datagen = ImageDataGenerator(rescale=1./255)\n",
        "datagen.fit(xtest)"
      ],
      "execution_count": 0,
      "outputs": []
    },
    {
      "cell_type": "code",
      "metadata": {
        "id": "rzz4QrxK7-4h",
        "colab_type": "code",
        "colab": {}
      },
      "source": [
        "xtrain1=np.array(xtrain)\n",
        "xtest1=np.array(xtest)\n",
        "ytrain1=np.array(ytrain)\n",
        "ytest1=np.array(ytest)"
      ],
      "execution_count": 0,
      "outputs": []
    },
    {
      "cell_type": "code",
      "metadata": {
        "id": "u1Aw-JLYBVTw",
        "colab_type": "code",
        "colab": {}
      },
      "source": [
        "num_classes = 2\n",
        "ytrain = keras.utils.to_categorical(ytrain, num_classes)\n",
        "ytest  = keras.utils.to_categorical(ytest,  num_classes)"
      ],
      "execution_count": 0,
      "outputs": []
    },
    {
      "cell_type": "code",
      "metadata": {
        "id": "Tf9aeDzl8G6Z",
        "colab_type": "code",
        "colab": {
          "base_uri": "https://localhost:8080/",
          "height": 50
        },
        "outputId": "c0a05495-2da8-4b9e-b1c8-5046b21723b5"
      },
      "source": [
        "num_train = 2000\n",
        "bs = 32\n",
        "ep = 5\n",
        "classifier.fit(xtrain1, ytrain1, epochs=ep, steps_per_epoch=num_train//bs, validation_data=(xtest1, ytest1), validation_steps = 482//bs)"
      ],
      "execution_count": 0,
      "outputs": [
        {
          "output_type": "stream",
          "text": [
            "Train on 2000 samples, validate on 482 samples\n",
            "Epoch 1/5\n"
          ],
          "name": "stdout"
        }
      ]
    },
    {
      "cell_type": "code",
      "metadata": {
        "id": "aIY3cZVJ8I1Q",
        "colab_type": "code",
        "colab": {
          "base_uri": "https://localhost:8080/",
          "height": 34
        },
        "outputId": "dc313415-742d-48af-9d83-4f7c13d55a52"
      },
      "source": [
        "ytrain.shape"
      ],
      "execution_count": 35,
      "outputs": [
        {
          "output_type": "execute_result",
          "data": {
            "text/plain": [
              "(2000, 2)"
            ]
          },
          "metadata": {
            "tags": []
          },
          "execution_count": 35
        }
      ]
    },
    {
      "cell_type": "code",
      "metadata": {
        "id": "eQ2sQX0PD5Py",
        "colab_type": "code",
        "colab": {
          "base_uri": "https://localhost:8080/",
          "height": 162
        },
        "outputId": "9d93da7b-9ae3-4fff-bb5f-4bc3d128e634"
      },
      "source": [
        "xtrain.shape"
      ],
      "execution_count": 36,
      "outputs": [
        {
          "output_type": "error",
          "ename": "AttributeError",
          "evalue": "ignored",
          "traceback": [
            "\u001b[0;31m---------------------------------------------------------------------------\u001b[0m",
            "\u001b[0;31mAttributeError\u001b[0m                            Traceback (most recent call last)",
            "\u001b[0;32m<ipython-input-36-db59d51c8916>\u001b[0m in \u001b[0;36m<module>\u001b[0;34m()\u001b[0m\n\u001b[0;32m----> 1\u001b[0;31m \u001b[0mxtrain\u001b[0m\u001b[0;34m.\u001b[0m\u001b[0mshape\u001b[0m\u001b[0;34m\u001b[0m\u001b[0;34m\u001b[0m\u001b[0m\n\u001b[0m",
            "\u001b[0;31mAttributeError\u001b[0m: 'list' object has no attribute 'shape'"
          ]
        }
      ]
    },
    {
      "cell_type": "code",
      "metadata": {
        "id": "8-o9fP0ID9pc",
        "colab_type": "code",
        "colab": {}
      },
      "source": [
        ""
      ],
      "execution_count": 0,
      "outputs": []
    }
  ]
}