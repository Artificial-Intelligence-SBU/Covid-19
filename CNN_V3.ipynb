{
  "nbformat": 4,
  "nbformat_minor": 0,
  "metadata": {
    "colab": {
      "name": "CNN-V3.ipynb",
      "provenance": [],
      "include_colab_link": true
    },
    "kernelspec": {
      "name": "python3",
      "display_name": "Python 3"
    },
    "accelerator": "GPU"
  },
  "cells": [
    {
      "cell_type": "markdown",
      "metadata": {
        "id": "view-in-github",
        "colab_type": "text"
      },
      "source": [
        "<a href=\"https://colab.research.google.com/github/mohammad2682/Covid-19/blob/master/CNN_V3.ipynb\" target=\"_parent\"><img src=\"https://colab.research.google.com/assets/colab-badge.svg\" alt=\"Open In Colab\"/></a>"
      ]
    },
    {
      "cell_type": "markdown",
      "metadata": {
        "id": "NeJALpc4VFEm",
        "colab_type": "text"
      },
      "source": [
        "# **Adding Packages and Libraries**"
      ]
    },
    {
      "cell_type": "code",
      "metadata": {
        "id": "lDUrP5TV51Q1",
        "colab_type": "code",
        "colab": {}
      },
      "source": [
        "import numpy as np \n",
        "import pandas as pd\n",
        "import cv2\n",
        "import os\n",
        "from matplotlib import pyplot as plt"
      ],
      "execution_count": 2,
      "outputs": []
    },
    {
      "cell_type": "code",
      "metadata": {
        "id": "2MLFohGc7n8F",
        "colab_type": "code",
        "colab": {}
      },
      "source": [
        "import keras\n",
        "from keras.models import Sequential\n",
        "from keras.layers import Conv2D\n",
        "from keras.layers import MaxPooling2D, GlobalAveragePooling2D\n",
        "from keras.layers import Flatten\n",
        "from keras.layers import Dense\n",
        "from keras.layers import BatchNormalization, Dropout\n",
        "from keras.optimizers import Adam\n",
        "from keras.callbacks import ModelCheckpoint, ReduceLROnPlateau"
      ],
      "execution_count": 5,
      "outputs": []
    },
    {
      "cell_type": "markdown",
      "metadata": {
        "id": "JIodUlI9Xa1n",
        "colab_type": "text"
      },
      "source": [
        "# **Cloning dataset from GitHub Repository**"
      ]
    },
    {
      "cell_type": "code",
      "metadata": {
        "id": "mF_OT_1m7NQr",
        "colab_type": "code",
        "colab": {
          "base_uri": "https://localhost:8080/",
          "height": 151
        },
        "outputId": "029ab72f-11ac-4864-fae9-2fe9afb44813"
      },
      "source": [
        "!git clone https://github.com/mohammad2682/Covid19-Dataset"
      ],
      "execution_count": 3,
      "outputs": [
        {
          "output_type": "stream",
          "text": [
            "Cloning into 'Covid19-Dataset'...\n",
            "remote: Enumerating objects: 21, done.\u001b[K\n",
            "remote: Counting objects:   4% (1/21)\u001b[K\rremote: Counting objects:   9% (2/21)\u001b[K\rremote: Counting objects:  14% (3/21)\u001b[K\rremote: Counting objects:  19% (4/21)\u001b[K\rremote: Counting objects:  23% (5/21)\u001b[K\rremote: Counting objects:  28% (6/21)\u001b[K\rremote: Counting objects:  33% (7/21)\u001b[K\rremote: Counting objects:  38% (8/21)\u001b[K\rremote: Counting objects:  42% (9/21)\u001b[K\rremote: Counting objects:  47% (10/21)\u001b[K\rremote: Counting objects:  52% (11/21)\u001b[K\rremote: Counting objects:  57% (12/21)\u001b[K\rremote: Counting objects:  61% (13/21)\u001b[K\rremote: Counting objects:  66% (14/21)\u001b[K\rremote: Counting objects:  71% (15/21)\u001b[K\rremote: Counting objects:  76% (16/21)\u001b[K\rremote: Counting objects:  80% (17/21)\u001b[K\rremote: Counting objects:  85% (18/21)\u001b[K\rremote: Counting objects:  90% (19/21)\u001b[K\rremote: Counting objects:  95% (20/21)\u001b[K\rremote: Counting objects: 100% (21/21)\u001b[K\rremote: Counting objects: 100% (21/21), done.\u001b[K\n",
            "remote: Compressing objects: 100% (21/21), done.\u001b[K\n",
            "remote: Total 2523 (delta 6), reused 0 (delta 0), pack-reused 2502\u001b[K\n",
            "Receiving objects: 100% (2523/2523), 229.95 MiB | 36.99 MiB/s, done.\n",
            "Resolving deltas: 100% (9/9), done.\n",
            "Checking out files: 100% (4965/4965), done.\n"
          ],
          "name": "stdout"
        }
      ]
    },
    {
      "cell_type": "markdown",
      "metadata": {
        "id": "8QEVIwCZXkds",
        "colab_type": "text"
      },
      "source": [
        "# Importing dataset"
      ]
    },
    {
      "cell_type": "code",
      "metadata": {
        "id": "W5IZGaOc7QBo",
        "colab_type": "code",
        "colab": {}
      },
      "source": [
        "#importing train data from repo\n",
        "import glob as glob\n",
        "import skimage.transform as st\n",
        "dl=['COVID','non-COVID']\n",
        "dl=os.listdir('Covid19-Dataset/Covid-19-Dataset/train/')\n",
        "xtrain=[]\n",
        "p=0\n",
        "for i in range(2):\n",
        "  for fn in sorted(glob.glob('Covid19-Dataset/Covid-19-Dataset/train/'+dl[i]+'/*.png')):\n",
        "    img = cv2.imread(fn)\n",
        "    img=st.resize(img,(128,128))\n",
        "    xtrain.append(img)"
      ],
      "execution_count": 6,
      "outputs": []
    },
    {
      "cell_type": "code",
      "metadata": {
        "id": "pG2FJmpe7Tjd",
        "colab_type": "code",
        "colab": {}
      },
      "source": [
        "#importing test data from repo\n",
        "dl=['COVID','non-COVID']\n",
        "dl=os.listdir('Covid19-Dataset/Covid-19-Dataset/test/')\n",
        "xtest=[]\n",
        "p=0\n",
        "for i in range(2):\n",
        "  for fn in sorted(glob.glob('Covid19-Dataset/Covid-19-Dataset/test/'+dl[i]+'/*.png')):\n",
        "    img = cv2.imread(fn)\n",
        "    img=st.resize(img,(128,128))\n",
        "    xtest.append(img)"
      ],
      "execution_count": 7,
      "outputs": []
    },
    {
      "cell_type": "code",
      "metadata": {
        "id": "YDafMWof7e-9",
        "colab_type": "code",
        "colab": {}
      },
      "source": [
        "#creating labels for train data\n",
        "ytrain=[]\n",
        "for i in range(2):\n",
        "  for j in range(1000):\n",
        "    ytrain.append(i)\n",
        "#creating labels for test data    \n",
        "ytest=[]\n",
        "for j in range(252):\n",
        "  ytest.append(0)\n",
        "for j in range(230):\n",
        "  ytest.append(1)"
      ],
      "execution_count": 8,
      "outputs": []
    },
    {
      "cell_type": "code",
      "metadata": {
        "id": "rzz4QrxK7-4h",
        "colab_type": "code",
        "colab": {}
      },
      "source": [
        "xtrain1=np.array(xtrain)\n",
        "xtest1=np.array(xtest)\n",
        "ytrain1=np.array(ytrain)\n",
        "ytest1=np.array(ytest)"
      ],
      "execution_count": 9,
      "outputs": []
    },
    {
      "cell_type": "code",
      "metadata": {
        "id": "8yaNW43hfI_P",
        "colab_type": "code",
        "colab": {}
      },
      "source": [
        "ytest1 = ytest1.reshape((ytest1.shape[0],1))\n",
        "ytrain1 = ytrain1.reshape((ytrain1.shape[0],1))"
      ],
      "execution_count": 10,
      "outputs": []
    },
    {
      "cell_type": "markdown",
      "metadata": {
        "id": "QPTA3AYfhbxV",
        "colab_type": "text"
      },
      "source": [
        "# **Data PreProcessing**"
      ]
    },
    {
      "cell_type": "code",
      "metadata": {
        "id": "sI6z-GO7hsGS",
        "colab_type": "code",
        "colab": {}
      },
      "source": [
        "image_size = 128\n",
        "num_channels = 3\n",
        "num_features = image_size * image_size * num_channels\n",
        "num_classes = 2\n",
        "\n",
        "num_train = 2000"
      ],
      "execution_count": 11,
      "outputs": []
    },
    {
      "cell_type": "code",
      "metadata": {
        "id": "oH3-um4jhfyd",
        "colab_type": "code",
        "colab": {
          "base_uri": "https://localhost:8080/",
          "height": 50
        },
        "outputId": "f42b4f4d-8dc4-41f1-a96f-89f3c910b6c4"
      },
      "source": [
        "# Convert 4D arrays to 2D arrays\n",
        "xtrain1 = xtrain1.reshape([-1, num_features])\n",
        "xtest1  =  xtest1.reshape([-1, num_features])\n",
        "\n",
        "print('Train data shape: {}'.format(xtrain1.shape))\n",
        "print('Test  data shape: {}'.format(xtest1.shape))"
      ],
      "execution_count": null,
      "outputs": [
        {
          "output_type": "stream",
          "text": [
            "Train data shape: (2000, 49152)\n",
            "Test  data shape: (482, 49152)\n"
          ],
          "name": "stdout"
        }
      ]
    },
    {
      "cell_type": "code",
      "metadata": {
        "id": "iXK9BzFZh8Go",
        "colab_type": "code",
        "colab": {}
      },
      "source": [
        "# convert pixel range from [0, 255] to [0., 1.]\n",
        "X_train = xtrain1.astype('float16')\n",
        "x_test  = xtest1.astype('float16')\n",
        "\n",
        "mu = np.mean(X_train, axis=0)\n",
        "\n",
        "X_train -= mu\n",
        "X_train /= 255.0\n",
        "\n",
        "x_test -= mu\n",
        "x_test /= 255.0"
      ],
      "execution_count": null,
      "outputs": []
    },
    {
      "cell_type": "markdown",
      "metadata": {
        "id": "sXIARdbmiHLv",
        "colab_type": "text"
      },
      "source": [
        "## ONE-hot encoding"
      ]
    },
    {
      "cell_type": "code",
      "metadata": {
        "id": "z3FmXQXdiFFn",
        "colab_type": "code",
        "colab": {
          "base_uri": "https://localhost:8080/",
          "height": 50
        },
        "outputId": "1280bd1e-4c3b-4059-8b12-86641a0a3610"
      },
      "source": [
        "y_train = keras.utils.to_categorical(ytrain1, num_classes)\n",
        "y_test  = keras.utils.to_categorical(ytest1,  num_classes)\n",
        "\n",
        "print(y_train.shape)\n",
        "print(y_test.shape)"
      ],
      "execution_count": 12,
      "outputs": [
        {
          "output_type": "stream",
          "text": [
            "(2000, 2)\n",
            "(482, 2)\n"
          ],
          "name": "stdout"
        }
      ]
    },
    {
      "cell_type": "markdown",
      "metadata": {
        "id": "tjKGE9t4in5D",
        "colab_type": "text"
      },
      "source": [
        "## **Converting dataset to 4D arrays**"
      ]
    },
    {
      "cell_type": "code",
      "metadata": {
        "id": "2TZtbJipiWqj",
        "colab_type": "code",
        "colab": {}
      },
      "source": [
        "X_train = X_train.reshape((-1, image_size, image_size, num_channels))\n",
        "x_test  =  x_test.reshape((-1, image_size, image_size, num_channels))"
      ],
      "execution_count": null,
      "outputs": []
    },
    {
      "cell_type": "markdown",
      "metadata": {
        "id": "dQvTeB8tXykM",
        "colab_type": "text"
      },
      "source": [
        "# **Creating a CNN with 2 Convolution Layers**"
      ]
    },
    {
      "cell_type": "code",
      "metadata": {
        "id": "khKdch3U7tXT",
        "colab_type": "code",
        "colab": {
          "base_uri": "https://localhost:8080/",
          "height": 622
        },
        "outputId": "f140124b-f124-4ded-8c95-a439b01afc17"
      },
      "source": [
        "# Initialising the CNN\n",
        "classifier = Sequential()\n",
        "# Step 1 - Convolution\n",
        "classifier.add(Conv2D(32, (7, 7), padding='same', input_shape = (128, 128, 3), activation = 'relu'))\n",
        "classifier.add(BatchNormalization())\n",
        "classifier.add(Dropout(0.25))\n",
        "# Step 2 - Pooling\n",
        "classifier.add(MaxPooling2D(pool_size = (2, 2)))\n",
        "# Adding a second convolutional layer\n",
        "#classifier.add(Conv2D(16, (1, 1), activation = 'relu'))\n",
        "classifier.add(Conv2D(64, (7, 7), padding='same', activation = 'relu'))\n",
        "classifier.add(Dropout(0.25))\n",
        "classifier.add(MaxPooling2D(pool_size = (2, 2)))\n",
        "# Adding a third convolutional layer\n",
        "#classifier.add(Conv2D(16, (1, 1), activation = 'relu'))\n",
        "classifier.add(Conv2D(128, (7, 7), padding='same', activation = 'relu'))\n",
        "classifier.add(Dropout(0.25))\n",
        "classifier.add(MaxPooling2D(pool_size = (2, 2)))\n",
        "# Step 3 - Flattening\n",
        "classifier.add(GlobalAveragePooling2D())\n",
        "# Step 4 - Full connection\n",
        "classifier.add(Dense(units = 128, activation = 'relu'))\n",
        "classifier.add(Dropout(0.25))\n",
        "classifier.add(Dense(units = num_classes, activation = 'sigmoid'))\n",
        "# Compiling the CNN\n",
        "optimizer = Adam(lr=0.002, beta_1=0.9, beta_2=0.999, epsilon=0.1, decay=0.0)\n",
        "classifier.compile(optimizer = optimizer, loss = 'categorical_crossentropy', metrics = ['accuracy'])\n",
        "classifier.summary()"
      ],
      "execution_count": 22,
      "outputs": [
        {
          "output_type": "stream",
          "text": [
            "Model: \"sequential_3\"\n",
            "_________________________________________________________________\n",
            "Layer (type)                 Output Shape              Param #   \n",
            "=================================================================\n",
            "conv2d_7 (Conv2D)            (None, 128, 128, 32)      4736      \n",
            "_________________________________________________________________\n",
            "batch_normalization_3 (Batch (None, 128, 128, 32)      128       \n",
            "_________________________________________________________________\n",
            "dropout_9 (Dropout)          (None, 128, 128, 32)      0         \n",
            "_________________________________________________________________\n",
            "max_pooling2d_7 (MaxPooling2 (None, 64, 64, 32)        0         \n",
            "_________________________________________________________________\n",
            "conv2d_8 (Conv2D)            (None, 64, 64, 64)        100416    \n",
            "_________________________________________________________________\n",
            "dropout_10 (Dropout)         (None, 64, 64, 64)        0         \n",
            "_________________________________________________________________\n",
            "max_pooling2d_8 (MaxPooling2 (None, 32, 32, 64)        0         \n",
            "_________________________________________________________________\n",
            "conv2d_9 (Conv2D)            (None, 32, 32, 128)       401536    \n",
            "_________________________________________________________________\n",
            "dropout_11 (Dropout)         (None, 32, 32, 128)       0         \n",
            "_________________________________________________________________\n",
            "max_pooling2d_9 (MaxPooling2 (None, 16, 16, 128)       0         \n",
            "_________________________________________________________________\n",
            "global_average_pooling2d_3 ( (None, 128)               0         \n",
            "_________________________________________________________________\n",
            "dense_5 (Dense)              (None, 128)               16512     \n",
            "_________________________________________________________________\n",
            "dropout_12 (Dropout)         (None, 128)               0         \n",
            "_________________________________________________________________\n",
            "dense_6 (Dense)              (None, 2)                 258       \n",
            "=================================================================\n",
            "Total params: 523,586\n",
            "Trainable params: 523,522\n",
            "Non-trainable params: 64\n",
            "_________________________________________________________________\n"
          ],
          "name": "stdout"
        }
      ]
    },
    {
      "cell_type": "code",
      "metadata": {
        "id": "J6SzdHPxZxLr",
        "colab_type": "code",
        "colab": {
          "base_uri": "https://localhost:8080/",
          "height": 386
        },
        "outputId": "2b63b18c-24e8-4664-a776-afe3d22b12b9"
      },
      "source": [
        "bs = 32\n",
        "ep = 10\n",
        "classifier.fit(x= xtrain1, y= y_train, batch_size= bs, epochs= ep, validation_data=(xtest1, y_test))"
      ],
      "execution_count": 16,
      "outputs": [
        {
          "output_type": "stream",
          "text": [
            "Train on 2000 samples, validate on 482 samples\n",
            "Epoch 1/10\n",
            "2000/2000 [==============================] - 3s 1ms/step - loss: 0.6478 - accuracy: 0.6195 - val_loss: 0.6994 - val_accuracy: 0.5187\n",
            "Epoch 2/10\n",
            "2000/2000 [==============================] - 3s 1ms/step - loss: 0.6363 - accuracy: 0.6270 - val_loss: 0.7011 - val_accuracy: 0.3983\n",
            "Epoch 3/10\n",
            "2000/2000 [==============================] - 3s 1ms/step - loss: 0.6291 - accuracy: 0.6375 - val_loss: 0.7185 - val_accuracy: 0.4046\n",
            "Epoch 4/10\n",
            "2000/2000 [==============================] - 3s 1ms/step - loss: 0.6057 - accuracy: 0.6680 - val_loss: 0.7357 - val_accuracy: 0.4066\n",
            "Epoch 5/10\n",
            "2000/2000 [==============================] - 3s 1ms/step - loss: 0.5972 - accuracy: 0.6715 - val_loss: 0.7467 - val_accuracy: 0.4108\n",
            "Epoch 6/10\n",
            "2000/2000 [==============================] - 3s 1ms/step - loss: 0.5895 - accuracy: 0.6835 - val_loss: 0.9886 - val_accuracy: 0.5228\n",
            "Epoch 7/10\n",
            "2000/2000 [==============================] - 3s 1ms/step - loss: 0.5971 - accuracy: 0.6765 - val_loss: 0.7872 - val_accuracy: 0.5228\n",
            "Epoch 8/10\n",
            "2000/2000 [==============================] - 3s 1ms/step - loss: 0.5965 - accuracy: 0.6760 - val_loss: 1.0013 - val_accuracy: 0.4398\n",
            "Epoch 9/10\n",
            "2000/2000 [==============================] - 3s 1ms/step - loss: 0.5455 - accuracy: 0.7400 - val_loss: 1.8377 - val_accuracy: 0.4772\n",
            "Epoch 10/10\n",
            "2000/2000 [==============================] - 3s 1ms/step - loss: 0.5253 - accuracy: 0.7505 - val_loss: 2.6707 - val_accuracy: 0.5228\n"
          ],
          "name": "stdout"
        },
        {
          "output_type": "execute_result",
          "data": {
            "text/plain": [
              "<keras.callbacks.callbacks.History at 0x7f243e0cdef0>"
            ]
          },
          "metadata": {
            "tags": []
          },
          "execution_count": 16
        }
      ]
    },
    {
      "cell_type": "markdown",
      "metadata": {
        "id": "umoLMZKD-_W_",
        "colab_type": "text"
      },
      "source": [
        "# **Data Augmentation**"
      ]
    },
    {
      "cell_type": "code",
      "metadata": {
        "id": "uxi-uVsY7vd9",
        "colab_type": "code",
        "colab": {}
      },
      "source": [
        "from keras.preprocessing.image import ImageDataGenerator"
      ],
      "execution_count": 17,
      "outputs": []
    },
    {
      "cell_type": "code",
      "metadata": {
        "id": "kGX87WVv70xJ",
        "colab_type": "code",
        "colab": {}
      },
      "source": [
        "annealer = ReduceLROnPlateau(monitor='val_accuracy', factor=0.5, patience=5, verbose=1, min_lr=1e-3)\n",
        "checkpoint = ModelCheckpoint('model.h5', verbose=1, save_best_only=True)\n",
        "datagen = ImageDataGenerator(rescale=1./255,\n",
        "                        rotation_range=360, # Degree range for random rotations\n",
        "                        width_shift_range=0.2, # Range for random horizontal shifts\n",
        "                        height_shift_range=0.2, # Range for random vertical shifts\n",
        "                        zoom_range=0.2, # Range for random zoom\n",
        "                        horizontal_flip=True)\n",
        "\n",
        "datagen.fit(xtrain1)\n",
        "datagen = ImageDataGenerator(rescale=1./255)\n",
        "datagen.fit(xtest1)"
      ],
      "execution_count": 19,
      "outputs": []
    },
    {
      "cell_type": "code",
      "metadata": {
        "id": "C13aGHOHiv7r",
        "colab_type": "code",
        "colab": {
          "base_uri": "https://localhost:8080/",
          "height": 285
        },
        "outputId": "e2b5b50c-a075-4106-a30e-589501231b48"
      },
      "source": [
        "plt.imshow(xtrain1[2], cmap='gray')"
      ],
      "execution_count": 20,
      "outputs": [
        {
          "output_type": "execute_result",
          "data": {
            "text/plain": [
              "<matplotlib.image.AxesImage at 0x7f2428e92cc0>"
            ]
          },
          "metadata": {
            "tags": []
          },
          "execution_count": 20
        },
        {
          "output_type": "display_data",
          "data": {
            "image/png": "[encoded data removed]",
            "text/plain": [
              "<Figure size 432x288 with 1 Axes>"
            ]
          },
          "metadata": {
            "tags": [],
            "needs_background": "light"
          }
        }
      ]
    },
    {
      "cell_type": "code",
      "metadata": {
        "id": "0XE1A6AhkqQl",
        "colab_type": "code",
        "colab": {
          "base_uri": "https://localhost:8080/",
          "height": 298
        },
        "outputId": "70f37ab0-4dca-4037-ca70-2e6b354c8fcf"
      },
      "source": [
        "plt.subplot(1,2,1)\n",
        "plt.scatter(xtrain1[0:999,30],xtrain1[0:999,90],label='Covid')\n",
        "plt.scatter(xtrain1[1000:1999,30],xtrain1[1000:1999,90],label='nonCovid')\n",
        "plt.legend()\n",
        "#\"\"\"\n",
        "plt.subplot(1,2,2)\n",
        "plt.scatter(xtest1[0:251,30],xtest1[0:251,90], label='Covid')\n",
        "plt.scatter(xtest1[252:481,30],xtest1[252:481,90], label='nonCovid')\n",
        "plt.legend()\n",
        "#\"\"\"\n",
        "plt.show()"
      ],
      "execution_count": null,
      "outputs": [
        {
          "output_type": "stream",
          "text": [
            "/usr/local/lib/python3.6/dist-packages/IPython/core/pylabtools.py:125: UserWarning: Creating legend with loc=\"best\" can be slow with large amounts of data.\n",
            "  fig.canvas.print_figure(bytes_io, **kw)\n"
          ],
          "name": "stderr"
        },
        {
          "output_type": "display_data",
          "data": {
            "image/png": "[encoded data removed]",
            "text/plain": [
              "<Figure size 432x288 with 2 Axes>"
            ]
          },
          "metadata": {
            "tags": [],
            "needs_background": "light"
          }
        }
      ]
    },
    {
      "cell_type": "code",
      "metadata": {
        "id": "Tf9aeDzl8G6Z",
        "colab_type": "code",
        "colab": {
          "base_uri": "https://localhost:8080/",
          "height": 1000
        },
        "outputId": "67119c7a-6342-4059-f48c-ff8eac60694c"
      },
      "source": [
        "bs = 16\n",
        "ep = 50\n",
        "history = classifier.fit_generator(datagen.flow(xtrain1, y_train, batch_size=bs),\n",
        "                        steps_per_epoch=num_train//bs,\n",
        "                        epochs=ep,\n",
        "                        callbacks=[annealer, checkpoint],\n",
        "                        validation_data=(xtest1, y_test))"
      ],
      "execution_count": 23,
      "outputs": [
        {
          "output_type": "stream",
          "text": [
            "Epoch 1/50\n",
            "125/125 [==============================] - 4s 30ms/step - loss: 0.6930 - accuracy: 0.5060 - val_loss: 0.6972 - val_accuracy: 0.4772\n",
            "\n",
            "Epoch 00001: val_loss improved from 7.69121 to 0.69720, saving model to model.h5\n",
            "Epoch 2/50\n",
            "125/125 [==============================] - 3s 27ms/step - loss: 0.6927 - accuracy: 0.5445 - val_loss: 0.6994 - val_accuracy: 0.4772\n",
            "\n",
            "Epoch 00002: val_loss did not improve from 0.69720\n",
            "Epoch 3/50\n",
            "125/125 [==============================] - 3s 27ms/step - loss: 0.6924 - accuracy: 0.5665 - val_loss: 0.6975 - val_accuracy: 0.4004\n",
            "\n",
            "Epoch 00003: val_loss did not improve from 0.69720\n",
            "Epoch 4/50\n",
            "125/125 [==============================] - 3s 27ms/step - loss: 0.6917 - accuracy: 0.5740 - val_loss: 0.7507 - val_accuracy: 0.5228\n",
            "\n",
            "Epoch 00004: val_loss did not improve from 0.69720\n",
            "Epoch 5/50\n",
            "125/125 [==============================] - 3s 27ms/step - loss: 0.6910 - accuracy: 0.6105 - val_loss: 1.1395 - val_accuracy: 0.5228\n",
            "\n",
            "Epoch 00005: val_loss did not improve from 0.69720\n",
            "Epoch 6/50\n",
            "125/125 [==============================] - 3s 27ms/step - loss: 0.6896 - accuracy: 0.6170 - val_loss: 2.3222 - val_accuracy: 0.5228\n",
            "\n",
            "Epoch 00006: val_loss did not improve from 0.69720\n",
            "Epoch 7/50\n",
            "125/125 [==============================] - 3s 27ms/step - loss: 0.6870 - accuracy: 0.6215 - val_loss: 4.9022 - val_accuracy: 0.5228\n",
            "\n",
            "Epoch 00007: val_loss did not improve from 0.69720\n",
            "Epoch 8/50\n",
            "125/125 [==============================] - 3s 27ms/step - loss: 0.6817 - accuracy: 0.6250 - val_loss: 7.6912 - val_accuracy: 0.5228\n",
            "\n",
            "Epoch 00008: val_loss did not improve from 0.69720\n",
            "Epoch 9/50\n",
            "125/125 [==============================] - 3s 27ms/step - loss: 0.6731 - accuracy: 0.6195 - val_loss: 7.6912 - val_accuracy: 0.5228\n",
            "\n",
            "Epoch 00009: ReduceLROnPlateau reducing learning rate to 0.0010000000474974513.\n",
            "\n",
            "Epoch 00009: val_loss did not improve from 0.69720\n",
            "Epoch 10/50\n",
            "125/125 [==============================] - 3s 27ms/step - loss: 0.6583 - accuracy: 0.6305 - val_loss: 7.6912 - val_accuracy: 0.5228\n",
            "\n",
            "Epoch 00010: val_loss did not improve from 0.69720\n",
            "Epoch 11/50\n",
            "125/125 [==============================] - 3s 27ms/step - loss: 0.6487 - accuracy: 0.6165 - val_loss: 7.6912 - val_accuracy: 0.5228\n",
            "\n",
            "Epoch 00011: val_loss did not improve from 0.69720\n",
            "Epoch 12/50\n",
            "125/125 [==============================] - 3s 27ms/step - loss: 0.6385 - accuracy: 0.6345 - val_loss: 7.6912 - val_accuracy: 0.5228\n",
            "\n",
            "Epoch 00012: val_loss did not improve from 0.69720\n",
            "Epoch 13/50\n",
            "125/125 [==============================] - 3s 27ms/step - loss: 0.6336 - accuracy: 0.6365 - val_loss: 7.6912 - val_accuracy: 0.5228\n",
            "\n",
            "Epoch 00013: val_loss did not improve from 0.69720\n",
            "Epoch 14/50\n",
            "125/125 [==============================] - 3s 27ms/step - loss: 0.6327 - accuracy: 0.6220 - val_loss: 7.6912 - val_accuracy: 0.5228\n",
            "\n",
            "Epoch 00014: ReduceLROnPlateau reducing learning rate to 0.001.\n",
            "\n",
            "Epoch 00014: val_loss did not improve from 0.69720\n",
            "Epoch 15/50\n",
            "125/125 [==============================] - 3s 27ms/step - loss: 0.6286 - accuracy: 0.6420 - val_loss: 7.6912 - val_accuracy: 0.5228\n",
            "\n",
            "Epoch 00015: val_loss did not improve from 0.69720\n",
            "Epoch 16/50\n",
            "125/125 [==============================] - 3s 27ms/step - loss: 0.6246 - accuracy: 0.6370 - val_loss: 7.6912 - val_accuracy: 0.5228\n",
            "\n",
            "Epoch 00016: val_loss did not improve from 0.69720\n",
            "Epoch 17/50\n",
            "  6/125 [>.............................] - ETA: 3s - loss: 0.6190 - accuracy: 0.6875"
          ],
          "name": "stdout"
        },
        {
          "output_type": "error",
          "ename": "KeyboardInterrupt",
          "evalue": "ignored",
          "traceback": [
            "\u001b[0;31m---------------------------------------------------------------------------\u001b[0m",
            "\u001b[0;31mKeyboardInterrupt\u001b[0m                         Traceback (most recent call last)",
            "\u001b[0;32m<ipython-input-23-806681bfa4b3>\u001b[0m in \u001b[0;36m<module>\u001b[0;34m()\u001b[0m\n\u001b[1;32m      5\u001b[0m                         \u001b[0mepochs\u001b[0m\u001b[0;34m=\u001b[0m\u001b[0mep\u001b[0m\u001b[0;34m,\u001b[0m\u001b[0;34m\u001b[0m\u001b[0;34m\u001b[0m\u001b[0m\n\u001b[1;32m      6\u001b[0m                         \u001b[0mcallbacks\u001b[0m\u001b[0;34m=\u001b[0m\u001b[0;34m[\u001b[0m\u001b[0mannealer\u001b[0m\u001b[0;34m,\u001b[0m \u001b[0mcheckpoint\u001b[0m\u001b[0;34m]\u001b[0m\u001b[0;34m,\u001b[0m\u001b[0;34m\u001b[0m\u001b[0;34m\u001b[0m\u001b[0m\n\u001b[0;32m----> 7\u001b[0;31m                         validation_data=(xtest1, y_test))\n\u001b[0m",
            "\u001b[0;32m/usr/local/lib/python3.6/dist-packages/keras/legacy/interfaces.py\u001b[0m in \u001b[0;36mwrapper\u001b[0;34m(*args, **kwargs)\u001b[0m\n\u001b[1;32m     89\u001b[0m                 warnings.warn('Update your `' + object_name + '` call to the ' +\n\u001b[1;32m     90\u001b[0m                               'Keras 2 API: ' + signature, stacklevel=2)\n\u001b[0;32m---> 91\u001b[0;31m             \u001b[0;32mreturn\u001b[0m \u001b[0mfunc\u001b[0m\u001b[0;34m(\u001b[0m\u001b[0;34m*\u001b[0m\u001b[0margs\u001b[0m\u001b[0;34m,\u001b[0m \u001b[0;34m**\u001b[0m\u001b[0mkwargs\u001b[0m\u001b[0;34m)\u001b[0m\u001b[0;34m\u001b[0m\u001b[0;34m\u001b[0m\u001b[0m\n\u001b[0m\u001b[1;32m     92\u001b[0m         \u001b[0mwrapper\u001b[0m\u001b[0;34m.\u001b[0m\u001b[0m_original_function\u001b[0m \u001b[0;34m=\u001b[0m \u001b[0mfunc\u001b[0m\u001b[0;34m\u001b[0m\u001b[0;34m\u001b[0m\u001b[0m\n\u001b[1;32m     93\u001b[0m         \u001b[0;32mreturn\u001b[0m \u001b[0mwrapper\u001b[0m\u001b[0;34m\u001b[0m\u001b[0;34m\u001b[0m\u001b[0m\n",
            "\u001b[0;32m/usr/local/lib/python3.6/dist-packages/keras/engine/training.py\u001b[0m in \u001b[0;36mfit_generator\u001b[0;34m(self, generator, steps_per_epoch, epochs, verbose, callbacks, validation_data, validation_steps, validation_freq, class_weight, max_queue_size, workers, use_multiprocessing, shuffle, initial_epoch)\u001b[0m\n\u001b[1;32m   1730\u001b[0m             \u001b[0muse_multiprocessing\u001b[0m\u001b[0;34m=\u001b[0m\u001b[0muse_multiprocessing\u001b[0m\u001b[0;34m,\u001b[0m\u001b[0;34m\u001b[0m\u001b[0;34m\u001b[0m\u001b[0m\n\u001b[1;32m   1731\u001b[0m             \u001b[0mshuffle\u001b[0m\u001b[0;34m=\u001b[0m\u001b[0mshuffle\u001b[0m\u001b[0;34m,\u001b[0m\u001b[0;34m\u001b[0m\u001b[0;34m\u001b[0m\u001b[0m\n\u001b[0;32m-> 1732\u001b[0;31m             initial_epoch=initial_epoch)\n\u001b[0m\u001b[1;32m   1733\u001b[0m \u001b[0;34m\u001b[0m\u001b[0m\n\u001b[1;32m   1734\u001b[0m     \u001b[0;34m@\u001b[0m\u001b[0minterfaces\u001b[0m\u001b[0;34m.\u001b[0m\u001b[0mlegacy_generator_methods_support\u001b[0m\u001b[0;34m\u001b[0m\u001b[0;34m\u001b[0m\u001b[0m\n",
            "\u001b[0;32m/usr/local/lib/python3.6/dist-packages/keras/engine/training_generator.py\u001b[0m in \u001b[0;36mfit_generator\u001b[0;34m(model, generator, steps_per_epoch, epochs, verbose, callbacks, validation_data, validation_steps, validation_freq, class_weight, max_queue_size, workers, use_multiprocessing, shuffle, initial_epoch)\u001b[0m\n\u001b[1;32m    218\u001b[0m                                             \u001b[0msample_weight\u001b[0m\u001b[0;34m=\u001b[0m\u001b[0msample_weight\u001b[0m\u001b[0;34m,\u001b[0m\u001b[0;34m\u001b[0m\u001b[0;34m\u001b[0m\u001b[0m\n\u001b[1;32m    219\u001b[0m                                             \u001b[0mclass_weight\u001b[0m\u001b[0;34m=\u001b[0m\u001b[0mclass_weight\u001b[0m\u001b[0;34m,\u001b[0m\u001b[0;34m\u001b[0m\u001b[0;34m\u001b[0m\u001b[0m\n\u001b[0;32m--> 220\u001b[0;31m                                             reset_metrics=False)\n\u001b[0m\u001b[1;32m    221\u001b[0m \u001b[0;34m\u001b[0m\u001b[0m\n\u001b[1;32m    222\u001b[0m                 \u001b[0mouts\u001b[0m \u001b[0;34m=\u001b[0m \u001b[0mto_list\u001b[0m\u001b[0;34m(\u001b[0m\u001b[0mouts\u001b[0m\u001b[0;34m)\u001b[0m\u001b[0;34m\u001b[0m\u001b[0;34m\u001b[0m\u001b[0m\n",
            "\u001b[0;32m/usr/local/lib/python3.6/dist-packages/keras/engine/training.py\u001b[0m in \u001b[0;36mtrain_on_batch\u001b[0;34m(self, x, y, sample_weight, class_weight, reset_metrics)\u001b[0m\n\u001b[1;32m   1512\u001b[0m             \u001b[0mins\u001b[0m \u001b[0;34m=\u001b[0m \u001b[0mx\u001b[0m \u001b[0;34m+\u001b[0m \u001b[0my\u001b[0m \u001b[0;34m+\u001b[0m \u001b[0msample_weights\u001b[0m\u001b[0;34m\u001b[0m\u001b[0;34m\u001b[0m\u001b[0m\n\u001b[1;32m   1513\u001b[0m         \u001b[0mself\u001b[0m\u001b[0;34m.\u001b[0m\u001b[0m_make_train_function\u001b[0m\u001b[0;34m(\u001b[0m\u001b[0;34m)\u001b[0m\u001b[0;34m\u001b[0m\u001b[0;34m\u001b[0m\u001b[0m\n\u001b[0;32m-> 1514\u001b[0;31m         \u001b[0moutputs\u001b[0m \u001b[0;34m=\u001b[0m \u001b[0mself\u001b[0m\u001b[0;34m.\u001b[0m\u001b[0mtrain_function\u001b[0m\u001b[0;34m(\u001b[0m\u001b[0mins\u001b[0m\u001b[0;34m)\u001b[0m\u001b[0;34m\u001b[0m\u001b[0;34m\u001b[0m\u001b[0m\n\u001b[0m\u001b[1;32m   1515\u001b[0m \u001b[0;34m\u001b[0m\u001b[0m\n\u001b[1;32m   1516\u001b[0m         \u001b[0;32mif\u001b[0m \u001b[0mreset_metrics\u001b[0m\u001b[0;34m:\u001b[0m\u001b[0;34m\u001b[0m\u001b[0;34m\u001b[0m\u001b[0m\n",
            "\u001b[0;32m/usr/local/lib/python3.6/dist-packages/tensorflow/python/keras/backend.py\u001b[0m in \u001b[0;36m__call__\u001b[0;34m(self, inputs)\u001b[0m\n\u001b[1;32m   3790\u001b[0m         \u001b[0mvalue\u001b[0m \u001b[0;34m=\u001b[0m \u001b[0mmath_ops\u001b[0m\u001b[0;34m.\u001b[0m\u001b[0mcast\u001b[0m\u001b[0;34m(\u001b[0m\u001b[0mvalue\u001b[0m\u001b[0;34m,\u001b[0m \u001b[0mtensor\u001b[0m\u001b[0;34m.\u001b[0m\u001b[0mdtype\u001b[0m\u001b[0;34m)\u001b[0m\u001b[0;34m\u001b[0m\u001b[0;34m\u001b[0m\u001b[0m\n\u001b[1;32m   3791\u001b[0m       \u001b[0mconverted_inputs\u001b[0m\u001b[0;34m.\u001b[0m\u001b[0mappend\u001b[0m\u001b[0;34m(\u001b[0m\u001b[0mvalue\u001b[0m\u001b[0;34m)\u001b[0m\u001b[0;34m\u001b[0m\u001b[0;34m\u001b[0m\u001b[0m\n\u001b[0;32m-> 3792\u001b[0;31m     \u001b[0moutputs\u001b[0m \u001b[0;34m=\u001b[0m \u001b[0mself\u001b[0m\u001b[0;34m.\u001b[0m\u001b[0m_graph_fn\u001b[0m\u001b[0;34m(\u001b[0m\u001b[0;34m*\u001b[0m\u001b[0mconverted_inputs\u001b[0m\u001b[0;34m)\u001b[0m\u001b[0;34m\u001b[0m\u001b[0;34m\u001b[0m\u001b[0m\n\u001b[0m\u001b[1;32m   3793\u001b[0m \u001b[0;34m\u001b[0m\u001b[0m\n\u001b[1;32m   3794\u001b[0m     \u001b[0;31m# EagerTensor.numpy() will often make a copy to ensure memory safety.\u001b[0m\u001b[0;34m\u001b[0m\u001b[0;34m\u001b[0m\u001b[0;34m\u001b[0m\u001b[0m\n",
            "\u001b[0;32m/usr/local/lib/python3.6/dist-packages/tensorflow/python/eager/function.py\u001b[0m in \u001b[0;36m__call__\u001b[0;34m(self, *args, **kwargs)\u001b[0m\n\u001b[1;32m   1603\u001b[0m       \u001b[0mTypeError\u001b[0m\u001b[0;34m:\u001b[0m \u001b[0mFor\u001b[0m \u001b[0minvalid\u001b[0m \u001b[0mpositional\u001b[0m\u001b[0;34m/\u001b[0m\u001b[0mkeyword\u001b[0m \u001b[0margument\u001b[0m \u001b[0mcombinations\u001b[0m\u001b[0;34m.\u001b[0m\u001b[0;34m\u001b[0m\u001b[0;34m\u001b[0m\u001b[0m\n\u001b[1;32m   1604\u001b[0m     \"\"\"\n\u001b[0;32m-> 1605\u001b[0;31m     \u001b[0;32mreturn\u001b[0m \u001b[0mself\u001b[0m\u001b[0;34m.\u001b[0m\u001b[0m_call_impl\u001b[0m\u001b[0;34m(\u001b[0m\u001b[0margs\u001b[0m\u001b[0;34m,\u001b[0m \u001b[0mkwargs\u001b[0m\u001b[0;34m)\u001b[0m\u001b[0;34m\u001b[0m\u001b[0;34m\u001b[0m\u001b[0m\n\u001b[0m\u001b[1;32m   1606\u001b[0m \u001b[0;34m\u001b[0m\u001b[0m\n\u001b[1;32m   1607\u001b[0m   \u001b[0;32mdef\u001b[0m \u001b[0m_call_impl\u001b[0m\u001b[0;34m(\u001b[0m\u001b[0mself\u001b[0m\u001b[0;34m,\u001b[0m \u001b[0margs\u001b[0m\u001b[0;34m,\u001b[0m \u001b[0mkwargs\u001b[0m\u001b[0;34m,\u001b[0m \u001b[0mcancellation_manager\u001b[0m\u001b[0;34m=\u001b[0m\u001b[0;32mNone\u001b[0m\u001b[0;34m)\u001b[0m\u001b[0;34m:\u001b[0m\u001b[0;34m\u001b[0m\u001b[0;34m\u001b[0m\u001b[0m\n",
            "\u001b[0;32m/usr/local/lib/python3.6/dist-packages/tensorflow/python/eager/function.py\u001b[0m in \u001b[0;36m_call_impl\u001b[0;34m(self, args, kwargs, cancellation_manager)\u001b[0m\n\u001b[1;32m   1643\u001b[0m       raise TypeError(\"Keyword arguments {} unknown. Expected {}.\".format(\n\u001b[1;32m   1644\u001b[0m           list(kwargs.keys()), list(self._arg_keywords)))\n\u001b[0;32m-> 1645\u001b[0;31m     \u001b[0;32mreturn\u001b[0m \u001b[0mself\u001b[0m\u001b[0;34m.\u001b[0m\u001b[0m_call_flat\u001b[0m\u001b[0;34m(\u001b[0m\u001b[0margs\u001b[0m\u001b[0;34m,\u001b[0m \u001b[0mself\u001b[0m\u001b[0;34m.\u001b[0m\u001b[0mcaptured_inputs\u001b[0m\u001b[0;34m,\u001b[0m \u001b[0mcancellation_manager\u001b[0m\u001b[0;34m)\u001b[0m\u001b[0;34m\u001b[0m\u001b[0;34m\u001b[0m\u001b[0m\n\u001b[0m\u001b[1;32m   1646\u001b[0m \u001b[0;34m\u001b[0m\u001b[0m\n\u001b[1;32m   1647\u001b[0m   \u001b[0;32mdef\u001b[0m \u001b[0m_filtered_call\u001b[0m\u001b[0;34m(\u001b[0m\u001b[0mself\u001b[0m\u001b[0;34m,\u001b[0m \u001b[0margs\u001b[0m\u001b[0;34m,\u001b[0m \u001b[0mkwargs\u001b[0m\u001b[0;34m)\u001b[0m\u001b[0;34m:\u001b[0m\u001b[0;34m\u001b[0m\u001b[0;34m\u001b[0m\u001b[0m\n",
            "\u001b[0;32m/usr/local/lib/python3.6/dist-packages/tensorflow/python/eager/function.py\u001b[0m in \u001b[0;36m_call_flat\u001b[0;34m(self, args, captured_inputs, cancellation_manager)\u001b[0m\n\u001b[1;32m   1744\u001b[0m       \u001b[0;31m# No tape is watching; skip to running the function.\u001b[0m\u001b[0;34m\u001b[0m\u001b[0;34m\u001b[0m\u001b[0;34m\u001b[0m\u001b[0m\n\u001b[1;32m   1745\u001b[0m       return self._build_call_outputs(self._inference_function.call(\n\u001b[0;32m-> 1746\u001b[0;31m           ctx, args, cancellation_manager=cancellation_manager))\n\u001b[0m\u001b[1;32m   1747\u001b[0m     forward_backward = self._select_forward_and_backward_functions(\n\u001b[1;32m   1748\u001b[0m         \u001b[0margs\u001b[0m\u001b[0;34m,\u001b[0m\u001b[0;34m\u001b[0m\u001b[0;34m\u001b[0m\u001b[0m\n",
            "\u001b[0;32m/usr/local/lib/python3.6/dist-packages/tensorflow/python/eager/function.py\u001b[0m in \u001b[0;36mcall\u001b[0;34m(self, ctx, args, cancellation_manager)\u001b[0m\n\u001b[1;32m    596\u001b[0m               \u001b[0minputs\u001b[0m\u001b[0;34m=\u001b[0m\u001b[0margs\u001b[0m\u001b[0;34m,\u001b[0m\u001b[0;34m\u001b[0m\u001b[0;34m\u001b[0m\u001b[0m\n\u001b[1;32m    597\u001b[0m               \u001b[0mattrs\u001b[0m\u001b[0;34m=\u001b[0m\u001b[0mattrs\u001b[0m\u001b[0;34m,\u001b[0m\u001b[0;34m\u001b[0m\u001b[0;34m\u001b[0m\u001b[0m\n\u001b[0;32m--> 598\u001b[0;31m               ctx=ctx)\n\u001b[0m\u001b[1;32m    599\u001b[0m         \u001b[0;32melse\u001b[0m\u001b[0;34m:\u001b[0m\u001b[0;34m\u001b[0m\u001b[0;34m\u001b[0m\u001b[0m\n\u001b[1;32m    600\u001b[0m           outputs = execute.execute_with_cancellation(\n",
            "\u001b[0;32m/usr/local/lib/python3.6/dist-packages/tensorflow/python/eager/execute.py\u001b[0m in \u001b[0;36mquick_execute\u001b[0;34m(op_name, num_outputs, inputs, attrs, ctx, name)\u001b[0m\n\u001b[1;32m     58\u001b[0m     \u001b[0mctx\u001b[0m\u001b[0;34m.\u001b[0m\u001b[0mensure_initialized\u001b[0m\u001b[0;34m(\u001b[0m\u001b[0;34m)\u001b[0m\u001b[0;34m\u001b[0m\u001b[0;34m\u001b[0m\u001b[0m\n\u001b[1;32m     59\u001b[0m     tensors = pywrap_tfe.TFE_Py_Execute(ctx._handle, device_name, op_name,\n\u001b[0;32m---> 60\u001b[0;31m                                         inputs, attrs, num_outputs)\n\u001b[0m\u001b[1;32m     61\u001b[0m   \u001b[0;32mexcept\u001b[0m \u001b[0mcore\u001b[0m\u001b[0;34m.\u001b[0m\u001b[0m_NotOkStatusException\u001b[0m \u001b[0;32mas\u001b[0m \u001b[0me\u001b[0m\u001b[0;34m:\u001b[0m\u001b[0;34m\u001b[0m\u001b[0;34m\u001b[0m\u001b[0m\n\u001b[1;32m     62\u001b[0m     \u001b[0;32mif\u001b[0m \u001b[0mname\u001b[0m \u001b[0;32mis\u001b[0m \u001b[0;32mnot\u001b[0m \u001b[0;32mNone\u001b[0m\u001b[0;34m:\u001b[0m\u001b[0;34m\u001b[0m\u001b[0;34m\u001b[0m\u001b[0m\n",
            "\u001b[0;31mKeyboardInterrupt\u001b[0m: "
          ]
        }
      ]
    },
    {
      "cell_type": "code",
      "metadata": {
        "id": "UfxW3ymJjD9Z",
        "colab_type": "code",
        "colab": {
          "base_uri": "https://localhost:8080/",
          "height": 265
        },
        "outputId": "a1072595-355c-4057-c8b5-11679ca32a5f"
      },
      "source": [
        "plt.plot(history.history['accuracy'], label = 'train')\n",
        "plt.plot(history.history['val_accuracy'], label = 'test')\n",
        "plt.legend()\n",
        "plt.show()"
      ],
      "execution_count": 24,
      "outputs": [
        {
          "output_type": "display_data",
          "data": {
            "image/png": "[encoded data removed]",
            "text/plain": [
              "<Figure size 432x288 with 1 Axes>"
            ]
          },
          "metadata": {
            "tags": [],
            "needs_background": "light"
          }
        }
      ]
    },
    {
      "cell_type": "code",
      "metadata": {
        "id": "_YWRFr8okYdF",
        "colab_type": "code",
        "colab": {
          "base_uri": "https://localhost:8080/",
          "height": 268
        },
        "outputId": "c5a13f29-47ed-4d68-ad59-a52da2654d60"
      },
      "source": [
        "plt.plot(history.history['loss'], label = 'train')\n",
        "plt.plot(history.history['val_loss'], label = 'test')\n",
        "plt.legend()\n",
        "plt.show()"
      ],
      "execution_count": 25,
      "outputs": [
        {
          "output_type": "display_data",
          "data": {
            "image/png": "[encoded data removed]",
            "text/plain": [
              "<Figure size 432x288 with 1 Axes>"
            ]
          },
          "metadata": {
            "tags": [],
            "needs_background": "light"
          }
        }
      ]
    }
  ]
}