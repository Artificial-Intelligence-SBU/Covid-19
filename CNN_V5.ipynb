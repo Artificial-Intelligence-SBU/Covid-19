{
  "nbformat": 4,
  "nbformat_minor": 0,
  "metadata": {
    "colab": {
      "name": "CNN-V5.ipynb",
      "provenance": [],
      "authorship_tag": "ABX9TyOiJ2lvhcM2bRgvdG37B62m",
      "include_colab_link": true
    },
    "kernelspec": {
      "name": "python3",
      "display_name": "Python 3"
    },
    "accelerator": "GPU"
  },
  "cells": [
    {
      "cell_type": "markdown",
      "metadata": {
        "id": "view-in-github",
        "colab_type": "text"
      },
      "source": [
        "<a href=\"https://colab.research.google.com/github/mohammad2682/Covid-19/blob/master/CNN_V5.ipynb\" target=\"_parent\"><img src=\"https://colab.research.google.com/assets/colab-badge.svg\" alt=\"Open In Colab\"/></a>"
      ]
    },
    {
      "cell_type": "markdown",
      "metadata": {
        "id": "DH8Dqe5MEmfV",
        "colab_type": "text"
      },
      "source": [
        "## Cloning Dataset from GitHub Reporsitory"
      ]
    },
    {
      "cell_type": "code",
      "metadata": {
        "id": "KfRcMItMEXRx",
        "colab_type": "code",
        "colab": {
          "base_uri": "https://localhost:8080/",
          "height": 151
        },
        "outputId": "18134e86-ff18-43af-9177-22e6c06f0107"
      },
      "source": [
        "!git clone https://github.com/mohammad2682/Covid19-Dataset"
      ],
      "execution_count": 1,
      "outputs": [
        {
          "output_type": "stream",
          "text": [
            "Cloning into 'Covid19-Dataset'...\n",
            "remote: Enumerating objects: 21, done.\u001b[K\n",
            "remote: Counting objects:   4% (1/21)\u001b[K\rremote: Counting objects:   9% (2/21)\u001b[K\rremote: Counting objects:  14% (3/21)\u001b[K\rremote: Counting objects:  19% (4/21)\u001b[K\rremote: Counting objects:  23% (5/21)\u001b[K\rremote: Counting objects:  28% (6/21)\u001b[K\rremote: Counting objects:  33% (7/21)\u001b[K\rremote: Counting objects:  38% (8/21)\u001b[K\rremote: Counting objects:  42% (9/21)\u001b[K\rremote: Counting objects:  47% (10/21)\u001b[K\rremote: Counting objects:  52% (11/21)\u001b[K\rremote: Counting objects:  57% (12/21)\u001b[K\rremote: Counting objects:  61% (13/21)\u001b[K\rremote: Counting objects:  66% (14/21)\u001b[K\rremote: Counting objects:  71% (15/21)\u001b[K\rremote: Counting objects:  76% (16/21)\u001b[K\rremote: Counting objects:  80% (17/21)\u001b[K\rremote: Counting objects:  85% (18/21)\u001b[K\rremote: Counting objects:  90% (19/21)\u001b[K\rremote: Counting objects:  95% (20/21)\u001b[K\rremote: Counting objects: 100% (21/21)\u001b[K\rremote: Counting objects: 100% (21/21), done.\u001b[K\n",
            "remote: Compressing objects: 100% (21/21), done.\u001b[K\n",
            "remote: Total 2523 (delta 6), reused 0 (delta 0), pack-reused 2502\u001b[K\n",
            "Receiving objects: 100% (2523/2523), 229.95 MiB | 24.25 MiB/s, done.\n",
            "Resolving deltas: 100% (9/9), done.\n",
            "Checking out files: 100% (4965/4965), done.\n"
          ],
          "name": "stdout"
        }
      ]
    },
    {
      "cell_type": "markdown",
      "metadata": {
        "id": "ok-2nB4wEvNq",
        "colab_type": "text"
      },
      "source": [
        "## Importing Liberaries"
      ]
    },
    {
      "cell_type": "code",
      "metadata": {
        "id": "_A5nFLLtEuNY",
        "colab_type": "code",
        "colab": {}
      },
      "source": [
        "import numpy as np \n",
        "import pandas as pd\n",
        "import cv2\n",
        "import os\n",
        "from matplotlib import pyplot as plt"
      ],
      "execution_count": 2,
      "outputs": []
    },
    {
      "cell_type": "code",
      "metadata": {
        "id": "v_xG0iNgE10T",
        "colab_type": "code",
        "colab": {
          "base_uri": "https://localhost:8080/",
          "height": 34
        },
        "outputId": "3a3faad8-81dc-4e48-f3a9-bfccd8a8e63b"
      },
      "source": [
        "from keras.models import Sequential\n",
        "from keras.layers import Conv2D\n",
        "from keras.layers import MaxPooling2D, GlobalAveragePooling2D\n",
        "from keras.layers import Flatten\n",
        "from keras.layers import Dense\n",
        "from keras.layers import BatchNormalization, Dropout, Activation\n",
        "from keras.optimizers import Adam\n",
        "from keras.callbacks import ModelCheckpoint, ReduceLROnPlateau"
      ],
      "execution_count": 3,
      "outputs": [
        {
          "output_type": "stream",
          "text": [
            "Using TensorFlow backend.\n"
          ],
          "name": "stderr"
        }
      ]
    },
    {
      "cell_type": "markdown",
      "metadata": {
        "id": "8CpQdq4Pd6Gn",
        "colab_type": "text"
      },
      "source": [
        "## Creating a 3layered CNN"
      ]
    },
    {
      "cell_type": "code",
      "metadata": {
        "id": "QX6jcgR9E5MU",
        "colab_type": "code",
        "colab": {
          "base_uri": "https://localhost:8080/",
          "height": 622
        },
        "outputId": "965060fe-7abc-426c-a6e1-5954b7cca495"
      },
      "source": [
        "# Initialising the CNN\n",
        "classifier = Sequential()\n",
        "# Step 1 - Convolution\n",
        "classifier.add(Conv2D(32, (7, 7), input_shape = (128, 128, 1)))\n",
        "classifier.add(Dropout(0.3))\n",
        "#classifier.add(BatchNormalization())\n",
        "classifier.add(Activation('relu'))\n",
        "# Step 2 - Pooling\n",
        "classifier.add(MaxPooling2D(pool_size = (2, 2)))\n",
        "# Adding a second convolutional layer\n",
        "classifier.add(Conv2D(64, (7, 7), activation = 'relu'))\n",
        "classifier.add(Dropout(0.3))\n",
        "classifier.add(MaxPooling2D(pool_size = (2, 2)))\n",
        "# Adding a third convolutional layer\n",
        "classifier.add(Conv2D(128, (7, 7), activation = 'relu'))\n",
        "classifier.add(Dropout(0.3))\n",
        "classifier.add(MaxPooling2D(pool_size = (2, 2)))\n",
        "#classifier.add(GlobalAveragePooling2D())\n",
        "# Step 3 - Flattening\n",
        "classifier.add(Flatten())\n",
        "# Step 4 - Full connection\n",
        "classifier.add(Dense(units = 64, activation = 'relu'))\n",
        "classifier.add(Dropout(0.3))\n",
        "classifier.add(Dense(units = 1, activation = 'sigmoid'))\n",
        "# Compiling the CNN\n",
        "#optimizer = Adam(lr=0.002, beta_1=0.9, beta_2=0.999, epsilon=0.1, decay=0.0)\n",
        "classifier.compile(optimizer = 'adadelta', loss = 'binary_crossentropy', metrics = ['accuracy'])\n",
        "classifier.summary()"
      ],
      "execution_count": 4,
      "outputs": [
        {
          "output_type": "stream",
          "text": [
            "Model: \"sequential_1\"\n",
            "_________________________________________________________________\n",
            "Layer (type)                 Output Shape              Param #   \n",
            "=================================================================\n",
            "conv2d_1 (Conv2D)            (None, 122, 122, 32)      1600      \n",
            "_________________________________________________________________\n",
            "dropout_1 (Dropout)          (None, 122, 122, 32)      0         \n",
            "_________________________________________________________________\n",
            "activation_1 (Activation)    (None, 122, 122, 32)      0         \n",
            "_________________________________________________________________\n",
            "max_pooling2d_1 (MaxPooling2 (None, 61, 61, 32)        0         \n",
            "_________________________________________________________________\n",
            "conv2d_2 (Conv2D)            (None, 55, 55, 64)        100416    \n",
            "_________________________________________________________________\n",
            "dropout_2 (Dropout)          (None, 55, 55, 64)        0         \n",
            "_________________________________________________________________\n",
            "max_pooling2d_2 (MaxPooling2 (None, 27, 27, 64)        0         \n",
            "_________________________________________________________________\n",
            "conv2d_3 (Conv2D)            (None, 21, 21, 128)       401536    \n",
            "_________________________________________________________________\n",
            "dropout_3 (Dropout)          (None, 21, 21, 128)       0         \n",
            "_________________________________________________________________\n",
            "max_pooling2d_3 (MaxPooling2 (None, 10, 10, 128)       0         \n",
            "_________________________________________________________________\n",
            "flatten_1 (Flatten)          (None, 12800)             0         \n",
            "_________________________________________________________________\n",
            "dense_1 (Dense)              (None, 64)                819264    \n",
            "_________________________________________________________________\n",
            "dropout_4 (Dropout)          (None, 64)                0         \n",
            "_________________________________________________________________\n",
            "dense_2 (Dense)              (None, 1)                 65        \n",
            "=================================================================\n",
            "Total params: 1,322,881\n",
            "Trainable params: 1,322,881\n",
            "Non-trainable params: 0\n",
            "_________________________________________________________________\n"
          ],
          "name": "stdout"
        }
      ]
    },
    {
      "cell_type": "markdown",
      "metadata": {
        "id": "tU5544UQeFmI",
        "colab_type": "text"
      },
      "source": [
        "## Data Augmentation"
      ]
    },
    {
      "cell_type": "code",
      "metadata": {
        "id": "ksmklDhhFCO-",
        "colab_type": "code",
        "colab": {
          "base_uri": "https://localhost:8080/",
          "height": 50
        },
        "outputId": "998a56c3-bfd1-4d8f-edf9-8bb3a95e4c6b"
      },
      "source": [
        "\n",
        "from keras.preprocessing.image import ImageDataGenerator\n",
        "train_datagen = ImageDataGenerator( rotation_range=360, # Degree range for random rotations\n",
        "                        width_shift_range=0.2, # Range for random horizontal shifts\n",
        "                        height_shift_range=0.2, # Range for random vertical shifts\n",
        "                        zoom_range=0.2, # Range for random zoom\n",
        "                        horizontal_flip=True, # Randomly flip inputs horizontally\n",
        "                        rescale = 1./255)\n",
        "test_datagen = ImageDataGenerator(rescale = 1./255)\n",
        "training_set = train_datagen.flow_from_directory('Covid19-Dataset/Covid-19-Dataset/train',\n",
        "                                                    target_size = (128, 128),\n",
        "                                                    color_mode=\"grayscale\",\n",
        "                                                    shuffle=True,\n",
        "                                                    batch_size = 32,\n",
        "                                                    class_mode = 'binary')\n",
        "test_set = test_datagen.flow_from_directory('Covid19-Dataset/Covid-19-Dataset/test',\n",
        "                                              target_size = (128, 128),\n",
        "                                              color_mode=\"grayscale\",\n",
        "                                              shuffle=True,\n",
        "                                              batch_size = 32,\n",
        "                                              class_mode = 'binary')"
      ],
      "execution_count": 5,
      "outputs": [
        {
          "output_type": "stream",
          "text": [
            "Found 2000 images belonging to 2 classes.\n",
            "Found 482 images belonging to 2 classes.\n"
          ],
          "name": "stdout"
        }
      ]
    },
    {
      "cell_type": "markdown",
      "metadata": {
        "id": "wcCgsf77eIek",
        "colab_type": "text"
      },
      "source": [
        "## Training the Model"
      ]
    },
    {
      "cell_type": "code",
      "metadata": {
        "id": "eBCbYff-FKLc",
        "colab_type": "code",
        "colab": {
          "base_uri": "https://localhost:8080/",
          "height": 689
        },
        "outputId": "39867b11-2cf4-46db-aa84-61791e0c9417"
      },
      "source": [
        "annealer = ReduceLROnPlateau(monitor='val_accuracy', factor=0.5, patience=5, verbose=1, min_lr=1e-3)\n",
        "checkpoint = ModelCheckpoint('model.h5', verbose=1, save_best_only=True)\n",
        "\n",
        "history = classifier.fit_generator(training_set,\n",
        "                          steps_per_epoch = 8000,\n",
        "                          epochs = 10,\n",
        "                          callbacks=[annealer, checkpoint],\n",
        "                          validation_data = test_set,\n",
        "                          validation_steps = 2000)"
      ],
      "execution_count": 6,
      "outputs": [
        {
          "output_type": "stream",
          "text": [
            "Epoch 1/10\n",
            "8000/8000 [==============================] - 1556s 195ms/step - loss: 0.4239 - accuracy: 0.7995 - val_loss: 0.9967 - val_accuracy: 0.6826\n",
            "\n",
            "Epoch 00001: val_loss improved from inf to 0.99670, saving model to model.h5\n",
            "Epoch 2/10\n",
            "8000/8000 [==============================] - 1549s 194ms/step - loss: 0.2832 - accuracy: 0.8832 - val_loss: 0.1140 - val_accuracy: 0.7759\n",
            "\n",
            "Epoch 00002: val_loss improved from 0.99670 to 0.11401, saving model to model.h5\n",
            "Epoch 3/10\n",
            "8000/8000 [==============================] - 1552s 194ms/step - loss: 0.2331 - accuracy: 0.9063 - val_loss: 0.0179 - val_accuracy: 0.7427\n",
            "\n",
            "Epoch 00003: val_loss improved from 0.11401 to 0.01788, saving model to model.h5\n",
            "Epoch 4/10\n",
            "8000/8000 [==============================] - 1552s 194ms/step - loss: 0.2085 - accuracy: 0.9169 - val_loss: 0.1226 - val_accuracy: 0.7842\n",
            "\n",
            "Epoch 00004: val_loss did not improve from 0.01788\n",
            "Epoch 5/10\n",
            "8000/8000 [==============================] - 1545s 193ms/step - loss: 0.1896 - accuracy: 0.9242 - val_loss: 0.7006 - val_accuracy: 0.7178\n",
            "\n",
            "Epoch 00005: val_loss did not improve from 0.01788\n",
            "Epoch 6/10\n",
            "8000/8000 [==============================] - 1542s 193ms/step - loss: 0.1751 - accuracy: 0.9296 - val_loss: 0.9629 - val_accuracy: 0.8112\n",
            "\n",
            "Epoch 00006: val_loss did not improve from 0.01788\n",
            "Epoch 7/10\n",
            "8000/8000 [==============================] - 1542s 193ms/step - loss: 0.1657 - accuracy: 0.9350 - val_loss: 0.0088 - val_accuracy: 0.7925\n",
            "\n",
            "Epoch 00007: val_loss improved from 0.01788 to 0.00882, saving model to model.h5\n",
            "Epoch 8/10\n",
            "8000/8000 [==============================] - 1545s 193ms/step - loss: 0.1629 - accuracy: 0.9373 - val_loss: 1.2732 - val_accuracy: 0.7946\n",
            "\n",
            "Epoch 00008: val_loss did not improve from 0.00882\n",
            "Epoch 9/10\n",
            "8000/8000 [==============================] - 1546s 193ms/step - loss: 0.1570 - accuracy: 0.9392 - val_loss: 5.3244 - val_accuracy: 0.7946\n",
            "\n",
            "Epoch 00009: val_loss did not improve from 0.00882\n",
            "Epoch 10/10\n",
            "8000/8000 [==============================] - 1544s 193ms/step - loss: 0.1542 - accuracy: 0.9417 - val_loss: 0.2282 - val_accuracy: 0.7988\n",
            "\n",
            "Epoch 00010: val_loss did not improve from 0.00882\n"
          ],
          "name": "stdout"
        }
      ]
    },
    {
      "cell_type": "markdown",
      "metadata": {
        "id": "yCR6UuJkesvi",
        "colab_type": "text"
      },
      "source": [
        "##Plotting Acc and Loss Plots"
      ]
    },
    {
      "cell_type": "code",
      "metadata": {
        "id": "cbuNWcn3exs9",
        "colab_type": "code",
        "colab": {
          "base_uri": "https://localhost:8080/",
          "height": 281
        },
        "outputId": "92b4ef9f-51a3-4731-de91-ab704643adcd"
      },
      "source": [
        "plt.subplot(1,2,1)\n",
        "plt.plot(history.history['accuracy'], label = 'train')\n",
        "plt.plot(history.history['val_accuracy'], label = 'test')\n",
        "plt.title('accuracy')\n",
        "plt.legend()\n",
        "plt.subplot(1,2,2)\n",
        "plt.plot(history.history['loss'], label = 'train')\n",
        "plt.plot(history.history['val_loss'], label = 'test')\n",
        "plt.title('Loss')\n",
        "plt.legend()\n",
        "plt.subplots_adjust(right = 1.5)\n",
        "plt.show()"
      ],
      "execution_count": 7,
      "outputs": [
        {
          "output_type": "display_data",
          "data": {
            "image/png": "[encoded data removed]",
            "text/plain": [
              "<Figure size 432x288 with 2 Axes>"
            ]
          },
          "metadata": {
            "tags": [],
            "needs_background": "light"
          }
        }
      ]
    },
    {
      "cell_type": "markdown",
      "metadata": {
        "id": "f0Y_dmD4eyWz",
        "colab_type": "text"
      },
      "source": [
        "## Confusion Matrix"
      ]
    },
    {
      "cell_type": "code",
      "metadata": {
        "id": "kuju29JXe1DN",
        "colab_type": "code",
        "colab": {
          "base_uri": "https://localhost:8080/",
          "height": 703
        },
        "outputId": "6c3f8d51-3285-43f3-83d6-922ae510a19f"
      },
      "source": [
        "from sklearn.metrics import confusion_matrix\n",
        "import seaborn as sns\n",
        "\n",
        "disease_types=['COVID', 'non-COVID']\n",
        "Y_val = np.zeros((482,1))\n",
        "Y_val[252:482] = 1\n",
        "Y_pred = classifier.predict(test_set)\n",
        "\n",
        "Y_pred = np.argmax(Y_pred, axis=1)\n",
        "Y_true = np.argmax(Y_val, axis=1)\n",
        "\n",
        "cm = confusion_matrix(Y_true, Y_pred)\n",
        "plt.figure(figsize=(12, 12))\n",
        "ax = sns.heatmap(cm, cmap=plt.cm.Greens, annot=True, square=True, xticklabels=disease_types, yticklabels=disease_types)\n",
        "ax.set_ylabel('Actual', fontsize=40)\n",
        "ax.set_xlabel('Predicted', fontsize=40)"
      ],
      "execution_count": 14,
      "outputs": [
        {
          "output_type": "execute_result",
          "data": {
            "text/plain": [
              "Text(0.5, 145.31999999999996, 'Predicted')"
            ]
          },
          "metadata": {
            "tags": []
          },
          "execution_count": 14
        },
        {
          "output_type": "display_data",
          "data": {
            "image/png": "[encoded data removed]",
            "text/plain": [
              "<Figure size 864x864 with 2 Axes>"
            ]
          },
          "metadata": {
            "tags": [],
            "needs_background": "light"
          }
        }
      ]
    },
    {
      "cell_type": "code",
      "metadata": {
        "id": "poS4IvnfB8QX",
        "colab_type": "code",
        "colab": {
          "base_uri": "https://localhost:8080/",
          "height": 34
        },
        "outputId": "6b9213d3-001e-4ab6-bd43-bfe89c89101d"
      },
      "source": [
        "result = classifier.predict(test_set)\n",
        "y_test = np.zeros((482,1))\n",
        "y_test[252:482] = 1\n",
        "r = abs(np.round(result)-y_test).sum()\n",
        "(482-r)/482"
      ],
      "execution_count": 15,
      "outputs": [
        {
          "output_type": "execute_result",
          "data": {
            "text/plain": [
              "0.483402489626556"
            ]
          },
          "metadata": {
            "tags": []
          },
          "execution_count": 15
        }
      ]
    },
    {
      "cell_type": "code",
      "metadata": {
        "id": "p32x06RlB_zo",
        "colab_type": "code",
        "colab": {
          "base_uri": "https://localhost:8080/",
          "height": 34
        },
        "outputId": "18fd603c-2828-4ede-e831-c2306c944a00"
      },
      "source": [
        "result = classifier.predict(training_set)\n",
        "y_train = np.zeros((2000,1))\n",
        "y_train[1000:2000] = 1\n",
        "r = abs(np.round(result)-y_train).sum()\n",
        "(2000-r)/2000"
      ],
      "execution_count": 16,
      "outputs": [
        {
          "output_type": "execute_result",
          "data": {
            "text/plain": [
              "0.487"
            ]
          },
          "metadata": {
            "tags": []
          },
          "execution_count": 16
        }
      ]
    }
  ]
}